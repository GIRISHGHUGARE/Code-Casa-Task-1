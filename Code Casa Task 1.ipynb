{
 "cells": [
  {
   "cell_type": "markdown",
   "metadata": {},
   "source": [
    "# SPAM EMAIL DETECTION WITH MACHINE LEARNING PROJECT"
   ]
  },
  {
   "cell_type": "markdown",
   "metadata": {},
   "source": [
    "### Name :- Girish Chandrakant Ghugare\n",
    "### Class :- SYBCA\n",
    "### Code Casa Internship Task 1\n",
    "\n",
    "### I have divided my project into following steps :- \n",
    "### Step 1 : Import all necessary libraries\n",
    "### Step 2 : Read csv data file\n",
    "### Step 3 : Only read not null values\n",
    "### Step 4 : Train your machine using given data set(use 80 percent data to train your machine)\n",
    "### Step 5 : Test your machine using given data set(use 20 percent data to test your machine)\n",
    "### Step 6 : Extract features from given data set\n",
    "### Step 7 : LogisticRegression\n",
    "### Step 8 : Check Accuracy\n",
    "### Step 9 : Input an email "
   ]
  },
  {
   "cell_type": "markdown",
   "metadata": {},
   "source": [
    "## Step 1 :-"
   ]
  },
  {
   "cell_type": "code",
   "execution_count": 2,
   "metadata": {},
   "outputs": [],
   "source": [
    "import numpy as np # numeraical python \n",
    "import pandas as pd # data manipulation and analysis\n",
    "from sklearn.linear_model import LogisticRegression # binary classification problems\n",
    "from sklearn.metrics import accuracy_score # performance check\n",
    "from sklearn.feature_extraction.text import TfidfVectorizer # Natural language Processing transforms text into numerical representation\n",
    "from sklearn.model_selection import train_test_split # for training and testing purpose"
   ]
  },
  {
   "cell_type": "markdown",
   "metadata": {},
   "source": [
    "## Step 2 :-"
   ]
  },
  {
   "cell_type": "code",
   "execution_count": 3,
   "metadata": {},
   "outputs": [],
   "source": [
    "df = pd.read_csv('D:\\Girish\\mail_data.csv')"
   ]
  },
  {
   "cell_type": "markdown",
   "metadata": {},
   "source": [
    "## Step 3:-"
   ]
  },
  {
   "cell_type": "code",
   "execution_count": 4,
   "metadata": {},
   "outputs": [],
   "source": [
    "data = df.where((pd.notnull(df)),'') #creating a view of not null data to use further "
   ]
  },
  {
   "cell_type": "markdown",
   "metadata": {},
   "source": [
    "## Step 4 and 5 :-"
   ]
  },
  {
   "cell_type": "code",
   "execution_count": 5,
   "metadata": {},
   "outputs": [],
   "source": [
    "Message_train, Message_test, Category_train, Category_test = train_test_split(data['Message'],data['Category'], test_size=0.2, random_state =3)"
   ]
  },
  {
   "cell_type": "code",
   "execution_count": 6,
   "metadata": {},
   "outputs": [
    {
     "name": "stdout",
     "output_type": "stream",
     "text": [
      "(5572,)\n",
      "(4457,)\n",
      "(1115,)\n"
     ]
    }
   ],
   "source": [
    "print(data['Message'].shape)\n",
    "print(Message_train.shape)\n",
    "print(Message_test.shape)"
   ]
  },
  {
   "cell_type": "code",
   "execution_count": 7,
   "metadata": {},
   "outputs": [
    {
     "name": "stdout",
     "output_type": "stream",
     "text": [
      "(5572,)\n",
      "(4457,)\n",
      "(1115,)\n"
     ]
    }
   ],
   "source": [
    "print(data['Category'].shape)\n",
    "print(Category_train.shape)\n",
    "print(Category_test.shape)"
   ]
  },
  {
   "cell_type": "markdown",
   "metadata": {},
   "source": [
    "## Step 6 :-"
   ]
  },
  {
   "cell_type": "code",
   "execution_count": 8,
   "metadata": {},
   "outputs": [],
   "source": [
    "feature_extraction = TfidfVectorizer(min_df=1, stop_words = 'english', lowercase='True')\n",
    "\n",
    "Message_train_features = feature_extraction.fit_transform(Message_train)\n",
    "Message_test_features = feature_extraction.transform(Message_test)\n",
    "\n",
    "Category_train = Category_train.astype('str')\n",
    "Category_test = Category_test.astype('str')"
   ]
  },
  {
   "cell_type": "markdown",
   "metadata": {},
   "source": [
    "## Step 7 :-"
   ]
  },
  {
   "cell_type": "code",
   "execution_count": 9,
   "metadata": {},
   "outputs": [],
   "source": [
    "LR = LogisticRegression()"
   ]
  },
  {
   "cell_type": "code",
   "execution_count": 17,
   "metadata": {
    "scrolled": true
   },
   "outputs": [
    {
     "data": {
      "text/plain": [
       "LogisticRegression(C=1.0, class_weight=None, dual=False, fit_intercept=True,\n",
       "          intercept_scaling=1, max_iter=100, multi_class='warn',\n",
       "          n_jobs=None, penalty='l2', random_state=None, solver='warn',\n",
       "          tol=0.0001, verbose=0, warm_start=False)"
      ]
     },
     "execution_count": 17,
     "metadata": {},
     "output_type": "execute_result"
    }
   ],
   "source": [
    "LR.fit(Message_train_features, Category_train)"
   ]
  },
  {
   "cell_type": "markdown",
   "metadata": {},
   "source": [
    "## Step 8 :-"
   ]
  },
  {
   "cell_type": "code",
   "execution_count": 11,
   "metadata": {},
   "outputs": [],
   "source": [
    "prediction_on_training_data = LR.predict(Message_train_features)\n",
    "accuracy_on_training_data = accuracy_score(Category_train, prediction_on_training_data)"
   ]
  },
  {
   "cell_type": "code",
   "execution_count": 12,
   "metadata": {},
   "outputs": [
    {
     "name": "stdout",
     "output_type": "stream",
     "text": [
      "accuracy of trained data :  0.9670181736594121\n"
     ]
    }
   ],
   "source": [
    "print('accuracy of trained data : ', accuracy_on_training_data)"
   ]
  },
  {
   "cell_type": "code",
   "execution_count": 13,
   "metadata": {},
   "outputs": [],
   "source": [
    "prediction_on_test_data = LR.predict(Message_test_features)\n",
    "accuracy_on_test_data = accuracy_score(Category_test, prediction_on_test_data)"
   ]
  },
  {
   "cell_type": "code",
   "execution_count": 14,
   "metadata": {},
   "outputs": [
    {
     "name": "stdout",
     "output_type": "stream",
     "text": [
      "accuracy of test data :  0.9659192825112107\n"
     ]
    }
   ],
   "source": [
    "print('accuracy of test data : ', accuracy_on_test_data)"
   ]
  },
  {
   "cell_type": "markdown",
   "metadata": {},
   "source": [
    "## Step 9 :-"
   ]
  },
  {
   "cell_type": "code",
   "execution_count": 15,
   "metadata": {},
   "outputs": [
    {
     "name": "stdout",
     "output_type": "stream",
     "text": [
      "Spam Mail\n"
     ]
    }
   ],
   "source": [
    "input_your_email = [\"Had your mobile 11 months or more? U R entitled to Update to the latest colour mobiles with camera for Free! Call The Mobile Update Co FREE on 08002986030\"]\n",
    "\n",
    "input_data_features = feature_extraction.transform(input_your_email)\n",
    "\n",
    "prediction = LR.predict(input_data_features)\n",
    "\n",
    "if(prediction==\"ham\"):\n",
    "    print('Ham Mail')\n",
    "else:\n",
    "    print('Spam Mail')"
   ]
  },
  {
   "cell_type": "code",
   "execution_count": 16,
   "metadata": {},
   "outputs": [
    {
     "name": "stdout",
     "output_type": "stream",
     "text": [
      "Ham Mail\n"
     ]
    }
   ],
   "source": [
    "input_your_email = [\"U dun say so early hor... U c already then say...\"]\n",
    "\n",
    "input_data_features = feature_extraction.transform(input_your_email)\n",
    "\n",
    "prediction = LR.predict(input_data_features)\n",
    "\n",
    "if(prediction==\"ham\"):\n",
    "    print('Ham Mail')\n",
    "else:\n",
    "    print('Spam Mail')"
   ]
  },
  {
   "cell_type": "code",
   "execution_count": null,
   "metadata": {},
   "outputs": [],
   "source": []
  },
  {
   "cell_type": "code",
   "execution_count": null,
   "metadata": {},
   "outputs": [],
   "source": []
  }
 ],
 "metadata": {
  "kernelspec": {
   "display_name": "Python 3",
   "language": "python",
   "name": "python3"
  },
  "language_info": {
   "codemirror_mode": {
    "name": "ipython",
    "version": 3
   },
   "file_extension": ".py",
   "mimetype": "text/x-python",
   "name": "python",
   "nbconvert_exporter": "python",
   "pygments_lexer": "ipython3",
   "version": "3.7.1"
  }
 },
 "nbformat": 4,
 "nbformat_minor": 2
}
